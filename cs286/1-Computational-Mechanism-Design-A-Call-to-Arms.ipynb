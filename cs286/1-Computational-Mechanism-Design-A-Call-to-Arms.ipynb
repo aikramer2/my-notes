{
 "cells": [
  {
   "cell_type": "markdown",
   "metadata": {},
   "source": [
    "link: https://dash.harvard.edu/bitstream/handle/1/4101007/Dash_computational.pdf?sequence=2"
   ]
  },
  {
   "cell_type": "markdown",
   "metadata": {},
   "source": [
    "**Multiagent Systems**: systems that allow multiple independent agents to interact and perform actions.\n",
    "* On design:\n",
    "    * Which actions are available\n",
    "    * How interactions occur over time (multiple steps, one-shot)\n",
    "    * How actions translate to outcomes.\n",
    "    \n",
    "** Computational-mechanism design** : how do we design multiagent systems (design a protocol) given conflicting goals among the pool of agents?\n",
    "* Complicating Factors:\n",
    "    * Agents arent necesarrily perfectly rational\n",
    "    * Agent pool likely not static, entry and exit.\n",
    "    * Communication between agents can be error prone or costly.\n"
   ]
  },
  {
   "cell_type": "markdown",
   "metadata": {},
   "source": [
    "** Problem Formulation**:\n",
    "\n",
    "* N agents\n",
    "* Private information $\\theta_i$ held by each agent (aka type of agent i)\n",
    "    * Includes how agent values possible outcomes.\n",
    "* utility of outcome o: $u_i(\\theta_i, o)$\n",
    "* $o \\in \\Upsilon$, the set of possible outcomes.\n",
    "* A strategy $s_i(\\theta_i) \\in \\Sigma$ is the set of actions the user takes.\n",
    "* An outcome rule $g(\\sigma) \\in \\Upsilon$ takes an agent action as an input and returns and outcome, where $sigma$ is part of an action set. \n",
    "* Then, a **mechanism** is a tuple $M=(\\Sigma, g)$, outcomes and how action lead to new outcomes.\n",
    "\n",
    "We would like to design a system that optimizes some social choice function that maps from agent types to outcomes, e.g. a utility maximizing function:\n",
    "\n",
    "$f(\\theta)= \\underset{o \\in \\Upsilon}{\\mathrm{max}} \\sum_{i \\in N}u_i(\\theta_i, o)$"
   ]
  },
  {
   "cell_type": "code",
   "execution_count": null,
   "metadata": {
    "collapsed": true
   },
   "outputs": [],
   "source": []
  }
 ],
 "metadata": {
  "kernelspec": {
   "display_name": "Python 3",
   "language": "python",
   "name": "python3"
  },
  "language_info": {
   "codemirror_mode": {
    "name": "ipython",
    "version": 3
   },
   "file_extension": ".py",
   "mimetype": "text/x-python",
   "name": "python",
   "nbconvert_exporter": "python",
   "pygments_lexer": "ipython3",
   "version": "3.6.2"
  }
 },
 "nbformat": 4,
 "nbformat_minor": 2
}
